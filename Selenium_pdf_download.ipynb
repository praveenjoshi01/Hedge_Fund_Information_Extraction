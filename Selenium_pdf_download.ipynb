{
 "cells": [
  {
   "cell_type": "code",
   "execution_count": 1,
   "metadata": {
    "scrolled": false
   },
   "outputs": [],
   "source": [
    "from selenium import webdriver\n",
    "from selenium.webdriver.common.keys import Keys\n",
    "from bs4 import BeautifulSoup\n",
    "import re\n",
    "import pandas as pd\n",
    "import os\n",
    "from selenium import webdriver\n",
    "import selenium\n",
    "import time\n",
    "import requests\n",
    "from bs4 import BeautifulSoup as bs\n",
    "from urllib.request import urlopen"
   ]
  },
  {
   "cell_type": "code",
   "execution_count": 14,
   "metadata": {},
   "outputs": [],
   "source": [
    "driver = webdriver.Chrome(\"C.\\chromedriver.exe\")\n",
    "driver.implicitly_wait(30)"
   ]
  },
  {
   "cell_type": "code",
   "execution_count": 1,
   "metadata": {
    "scrolled": true
   },
   "outputs": [],
   "source": [
    "year = [x for x in range(2010,2016)]\n",
    "_name= []\n",
    "_url=[]\n",
    "_year=[]\n",
    "for yr in year:\n",
    "    url = \"https://www.google.com/search?q=hedge+fund+prospectus+for+\"+str(yr)+\"+filetype:pdf\"\n",
    "    driver.get(url)\n",
    "    while(True):\n",
    "        soup_level1=BeautifulSoup(driver.page_source, 'lxml')\n",
    "        for index, link in enumerate(soup_level1.find_all('a', href=True)):\n",
    "                    url =link['href']\n",
    "                    if (url.startswith('https:') and url.endswith('pdf') and 'filetype' not in url):\n",
    "                        if url not in _url:\n",
    "                            _url.append(url)\n",
    "                            name_list = url.split('/')\n",
    "                            _name.append(name_list[-1])\n",
    "                            _year.append(yr)\n",
    "                            print(index,'--',str(name_list[-1])[-20:],'--',yr,)\n",
    "        try:\n",
    "            time.sleep(5)\n",
    "            driver.find_element_by_id('pnnext').click() \n",
    "        except:\n",
    "            time.sleep(10)\n",
    "            break"
   ]
  },
  {
   "cell_type": "code",
   "execution_count": 2,
   "metadata": {
    "scrolled": true
   },
   "outputs": [],
   "source": [
    "names_urls = zip(_name, _url, _year)\n",
    "for name, url, year in names_urls:\n",
    "    try:\n",
    "        print (url)\n",
    "        print(name[-20:])\n",
    "        res = urlopen(url)\n",
    "        path= \"pdfs//\"+str(year)+\"//\"\n",
    "        pdf = open(path+ name[-20:], 'wb')\n",
    "        pdf.write(res.read())\n",
    "        pdf.close()\n",
    "    except:\n",
    "        continue"
   ]
  },
  {
   "cell_type": "code",
   "execution_count": null,
   "metadata": {},
   "outputs": [],
   "source": []
  }
 ],
 "metadata": {
  "kernelspec": {
   "display_name": "Python 3",
   "language": "python",
   "name": "python3"
  },
  "language_info": {
   "codemirror_mode": {
    "name": "ipython",
    "version": 3
   },
   "file_extension": ".py",
   "mimetype": "text/x-python",
   "name": "python",
   "nbconvert_exporter": "python",
   "pygments_lexer": "ipython3",
   "version": "3.7.3"
  }
 },
 "nbformat": 4,
 "nbformat_minor": 2
}
